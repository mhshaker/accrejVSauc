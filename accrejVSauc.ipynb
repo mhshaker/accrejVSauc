{
 "metadata": {
  "language_info": {
   "codemirror_mode": {
    "name": "ipython",
    "version": 3
   },
   "file_extension": ".py",
   "mimetype": "text/x-python",
   "name": "python",
   "nbconvert_exporter": "python",
   "pygments_lexer": "ipython3",
   "version": "3.8.5"
  },
  "orig_nbformat": 2,
  "kernelspec": {
   "name": "python385jvsc74a57bd0b4b3436a5465a3b215fa70faa173af110c1ba8161d5370531b5f1016d135290d",
   "display_name": "Python 3.8.5 64-bit ('accrejVSauc': pipenv)",
   "language": "python"
  },
  "metadata": {
   "interpreter": {
    "hash": "916dbcbb3f70747c44a77c7bcd40155683ae19c65e1c03b4aa3499c5328201f1"
   }
  }
 },
 "nbformat": 4,
 "nbformat_minor": 2,
 "cells": [
  {
   "cell_type": "code",
   "execution_count": 8,
   "metadata": {},
   "outputs": [
    {
     "output_type": "execute_result",
     "data": {
      "text/plain": [
       "136"
      ]
     },
     "metadata": {},
     "execution_count": 8
    }
   ],
   "source": [
    "# read data\n",
    "import Data.data_provider as dp\n",
    "\n",
    "data_name = \"parkinsons\"\n",
    "features, target = dp.load_data(data_name)\n",
    "x_train, x_test, y_train, y_test = dp.split_data(features, target, split=0.3, seed=42)\n",
    "\n",
    "len(x_train)\n"
   ]
  },
  {
   "cell_type": "code",
   "execution_count": 10,
   "metadata": {},
   "outputs": [
    {
     "output_type": "stream",
     "name": "stdout",
     "text": [
      "acc  0.9152542372881356\n"
     ]
    }
   ],
   "source": [
    "# Train classifier on the first episode\n",
    "from sklearn.ensemble import RandomForestClassifier\n",
    "\n",
    "n_estimators = 30\n",
    "model = None\n",
    "model = RandomForestClassifier(bootstrap=True,\n",
    "    criterion=\"gini\",\n",
    "    max_depth=10,\n",
    "    n_estimators=n_estimators,\n",
    "    # max_features= \"sqrt\",\n",
    "    # min_samples_leaf= pram['min_samples_leaf'],\n",
    "    random_state=42,\n",
    "    verbose=0,\n",
    "    warm_start=False)\n",
    "model.fit(x_train, y_train)\n",
    "acc = model.score(x_test, y_test)\n",
    "print(\"acc \", acc)    \n"
   ]
  },
  {
   "cell_type": "code",
   "execution_count": 12,
   "metadata": {},
   "outputs": [
    {
     "output_type": "execute_result",
     "data": {
      "text/plain": [
       "0.4060728999484089"
      ]
     },
     "metadata": {},
     "execution_count": 12
    }
   ],
   "source": [
    "# claculate uncertainty\n",
    "import UncertaintyM as unc\n",
    "from Algo.a_RF import get_prob_matrix\n",
    "\n",
    "porb_matrix = get_prob_matrix(model, x_test, n_estimators, 0) # 1 is laplace\n",
    "porb_matrix = np.array(porb_matrix)\n",
    "total_uncertainty, epistemic_uncertainty, aleatoric_uncertainty = unc.uncertainty_ent(np.array(porb_matrix))\n",
    "\n",
    "total_uncertainty.mean()"
   ]
  },
  {
   "cell_type": "code",
   "execution_count": null,
   "metadata": {},
   "outputs": [],
   "source": [
    "# acc-rej curve"
   ]
  }
 ]
}